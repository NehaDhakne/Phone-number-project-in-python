{
 "cells": [
  {
   "cell_type": "code",
   "execution_count": 1,
   "metadata": {},
   "outputs": [
    {
     "name": "stdout",
     "output_type": "stream",
     "text": [
      "Collecting phonenumbers\n",
      "  Downloading phonenumbers-8.12.24-py2.py3-none-any.whl (2.6 MB)\n",
      "Installing collected packages: phonenumbers\n",
      "Successfully installed phonenumbers-8.12.24\n",
      "Note: you may need to restart the kernel to use updated packages.\n"
     ]
    }
   ],
   "source": [
    "pip install phonenumbers\n"
   ]
  },
  {
   "cell_type": "code",
   "execution_count": 6,
   "metadata": {},
   "outputs": [
    {
     "name": "stdout",
     "output_type": "stream",
     "text": [
      "The number operated in:\n",
      "India\n",
      "The carrier is:\n",
      "Idea\n"
     ]
    }
   ],
   "source": [
    "import phonenumbers\n",
    "\n",
    "number = \"+918888564838\"\n",
    "\n",
    "from phonenumbers import geocoder\n",
    "\n",
    "ch_number = phonenumbers.parse(number, \"CH\")\n",
    "\n",
    "print(\"The number operated in:\")\n",
    "\n",
    "print(geocoder.description_for_number(ch_number,\"en\"))\n",
    "\n",
    "from phonenumbers import carrier\n",
    "\n",
    "service_nmber = phonenumbers.parse(number, \"RO\")\n",
    "\n",
    "print(\"The carrier is:\")\n",
    "\n",
    "print(carrier.name_for_number(service_nmber, \"en\"))"
   ]
  },
  {
   "cell_type": "code",
   "execution_count": null,
   "metadata": {},
   "outputs": [],
   "source": []
  },
  {
   "cell_type": "code",
   "execution_count": null,
   "metadata": {},
   "outputs": [],
   "source": []
  }
 ],
 "metadata": {
  "kernelspec": {
   "display_name": "Python 3",
   "language": "python",
   "name": "python3"
  },
  "language_info": {
   "codemirror_mode": {
    "name": "ipython",
    "version": 3
   },
   "file_extension": ".py",
   "mimetype": "text/x-python",
   "name": "python",
   "nbconvert_exporter": "python",
   "pygments_lexer": "ipython3",
   "version": "3.8.5"
  }
 },
 "nbformat": 4,
 "nbformat_minor": 4
}
